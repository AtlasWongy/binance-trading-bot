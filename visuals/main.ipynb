{
 "cells": [
  {
   "cell_type": "code",
   "execution_count": 95,
   "id": "08901476",
   "metadata": {},
   "outputs": [],
   "source": [
    "import json\n",
    "import requests\n",
    "import pandas as pd\n",
    "import numpy as np\n",
    "import matplotlib.pyplot as plt\n",
    "from binance.client import Client\n",
    "import math"
   ]
  },
  {
   "cell_type": "code",
   "execution_count": 96,
   "id": "2eee675c",
   "metadata": {},
   "outputs": [
    {
     "name": "stdout",
     "output_type": "stream",
     "text": [
      "Connected to Binance successfully....\n"
     ]
    }
   ],
   "source": [
    "f = open('config.json')\n",
    "config = json.load(f)\n",
    "\n",
    "client = Client(config[\"api_key\"], config[\"secure_key\"])\n",
    "print(\"Connected to Binance successfully....\")"
   ]
  },
  {
   "cell_type": "code",
   "execution_count": 97,
   "id": "94815bc8",
   "metadata": {},
   "outputs": [],
   "source": [
    "# Set the time period and number of standard deviations for the calculations\n",
    "time_period = 20\n",
    "num_std_dev = 2"
   ]
  },
  {
   "cell_type": "code",
   "execution_count": 98,
   "id": "1581d516",
   "metadata": {},
   "outputs": [],
   "source": [
    "klines = client.get_historical_klines(config[\"currency\"], Client.KLINE_INTERVAL_5MINUTE, \"1 day ago UTC\")\n",
    "\n",
    "klines_dataframe = pd.DataFrame(\n",
    "    klines, \n",
    "    columns=[\n",
    "        'Open Time', \n",
    "        'Open', \n",
    "        'High', \n",
    "        'Low', \n",
    "        'Close', \n",
    "        'Volume',\n",
    "        'Close Time',\n",
    "        'Quote Asset',\n",
    "        'Volume',\n",
    "        'Number of Trades',\n",
    "        'Taker buy base asset volume',\n",
    "        'Taker buy quote asset volume'\n",
    "    ])"
   ]
  },
  {
   "cell_type": "code",
   "execution_count": 99,
   "id": "48ef2205",
   "metadata": {},
   "outputs": [
    {
     "data": {
      "text/html": [
       "<div>\n",
       "<style scoped>\n",
       "    .dataframe tbody tr th:only-of-type {\n",
       "        vertical-align: middle;\n",
       "    }\n",
       "\n",
       "    .dataframe tbody tr th {\n",
       "        vertical-align: top;\n",
       "    }\n",
       "\n",
       "    .dataframe thead th {\n",
       "        text-align: right;\n",
       "    }\n",
       "</style>\n",
       "<table border=\"1\" class=\"dataframe\">\n",
       "  <thead>\n",
       "    <tr style=\"text-align: right;\">\n",
       "      <th></th>\n",
       "      <th>Open Time</th>\n",
       "      <th>Open</th>\n",
       "      <th>High</th>\n",
       "      <th>Low</th>\n",
       "      <th>Close</th>\n",
       "      <th>Volume</th>\n",
       "      <th>Close Time</th>\n",
       "      <th>Quote Asset</th>\n",
       "      <th>Volume</th>\n",
       "      <th>Number of Trades</th>\n",
       "      <th>Taker buy base asset volume</th>\n",
       "      <th>Taker buy quote asset volume</th>\n",
       "    </tr>\n",
       "  </thead>\n",
       "  <tbody>\n",
       "    <tr>\n",
       "      <th>0</th>\n",
       "      <td>1670944500000</td>\n",
       "      <td>1335.63000000</td>\n",
       "      <td>1335.90000000</td>\n",
       "      <td>1328.96000000</td>\n",
       "      <td>1330.42000000</td>\n",
       "      <td>2596.80630000</td>\n",
       "      <td>1670944799999</td>\n",
       "      <td>3459507.51526800</td>\n",
       "      <td>3187</td>\n",
       "      <td>1025.64650000</td>\n",
       "      <td>1366251.21315000</td>\n",
       "      <td>0</td>\n",
       "    </tr>\n",
       "    <tr>\n",
       "      <th>1</th>\n",
       "      <td>1670944800000</td>\n",
       "      <td>1330.41000000</td>\n",
       "      <td>1332.49000000</td>\n",
       "      <td>1326.38000000</td>\n",
       "      <td>1327.10000000</td>\n",
       "      <td>2567.14410000</td>\n",
       "      <td>1670945099999</td>\n",
       "      <td>3413007.71353300</td>\n",
       "      <td>2856</td>\n",
       "      <td>1214.60210000</td>\n",
       "      <td>1615236.84114100</td>\n",
       "      <td>0</td>\n",
       "    </tr>\n",
       "    <tr>\n",
       "      <th>2</th>\n",
       "      <td>1670945100000</td>\n",
       "      <td>1327.22000000</td>\n",
       "      <td>1330.00000000</td>\n",
       "      <td>1326.31000000</td>\n",
       "      <td>1326.67000000</td>\n",
       "      <td>2321.66520000</td>\n",
       "      <td>1670945399999</td>\n",
       "      <td>3082895.94408700</td>\n",
       "      <td>3082</td>\n",
       "      <td>1045.92810000</td>\n",
       "      <td>1389080.94031200</td>\n",
       "      <td>0</td>\n",
       "    </tr>\n",
       "    <tr>\n",
       "      <th>3</th>\n",
       "      <td>1670945400000</td>\n",
       "      <td>1326.67000000</td>\n",
       "      <td>1328.14000000</td>\n",
       "      <td>1324.53000000</td>\n",
       "      <td>1325.94000000</td>\n",
       "      <td>3369.66180000</td>\n",
       "      <td>1670945699999</td>\n",
       "      <td>4468452.66150800</td>\n",
       "      <td>3546</td>\n",
       "      <td>1332.33670000</td>\n",
       "      <td>1766631.76350400</td>\n",
       "      <td>0</td>\n",
       "    </tr>\n",
       "    <tr>\n",
       "      <th>4</th>\n",
       "      <td>1670945700000</td>\n",
       "      <td>1325.94000000</td>\n",
       "      <td>1329.20000000</td>\n",
       "      <td>1323.36000000</td>\n",
       "      <td>1323.37000000</td>\n",
       "      <td>2742.14900000</td>\n",
       "      <td>1670945999999</td>\n",
       "      <td>3639436.31147200</td>\n",
       "      <td>2803</td>\n",
       "      <td>840.11840000</td>\n",
       "      <td>1114623.17316600</td>\n",
       "      <td>0</td>\n",
       "    </tr>\n",
       "    <tr>\n",
       "      <th>...</th>\n",
       "      <td>...</td>\n",
       "      <td>...</td>\n",
       "      <td>...</td>\n",
       "      <td>...</td>\n",
       "      <td>...</td>\n",
       "      <td>...</td>\n",
       "      <td>...</td>\n",
       "      <td>...</td>\n",
       "      <td>...</td>\n",
       "      <td>...</td>\n",
       "      <td>...</td>\n",
       "      <td>...</td>\n",
       "    </tr>\n",
       "    <tr>\n",
       "      <th>283</th>\n",
       "      <td>1671029400000</td>\n",
       "      <td>1336.41000000</td>\n",
       "      <td>1342.41000000</td>\n",
       "      <td>1336.41000000</td>\n",
       "      <td>1339.66000000</td>\n",
       "      <td>1957.12690000</td>\n",
       "      <td>1671029699999</td>\n",
       "      <td>2621710.09056000</td>\n",
       "      <td>2486</td>\n",
       "      <td>1112.56970000</td>\n",
       "      <td>1490353.84217100</td>\n",
       "      <td>0</td>\n",
       "    </tr>\n",
       "    <tr>\n",
       "      <th>284</th>\n",
       "      <td>1671029700000</td>\n",
       "      <td>1339.66000000</td>\n",
       "      <td>1342.56000000</td>\n",
       "      <td>1339.31000000</td>\n",
       "      <td>1340.73000000</td>\n",
       "      <td>1183.36350000</td>\n",
       "      <td>1671029999999</td>\n",
       "      <td>1586967.22745000</td>\n",
       "      <td>1366</td>\n",
       "      <td>572.89840000</td>\n",
       "      <td>768256.96141400</td>\n",
       "      <td>0</td>\n",
       "    </tr>\n",
       "    <tr>\n",
       "      <th>285</th>\n",
       "      <td>1671030000000</td>\n",
       "      <td>1340.84000000</td>\n",
       "      <td>1341.83000000</td>\n",
       "      <td>1338.03000000</td>\n",
       "      <td>1338.50000000</td>\n",
       "      <td>1600.53630000</td>\n",
       "      <td>1671030299999</td>\n",
       "      <td>2144421.65471500</td>\n",
       "      <td>1446</td>\n",
       "      <td>706.11520000</td>\n",
       "      <td>946187.36840900</td>\n",
       "      <td>0</td>\n",
       "    </tr>\n",
       "    <tr>\n",
       "      <th>286</th>\n",
       "      <td>1671030300000</td>\n",
       "      <td>1338.52000000</td>\n",
       "      <td>1340.30000000</td>\n",
       "      <td>1338.30000000</td>\n",
       "      <td>1340.15000000</td>\n",
       "      <td>809.27510000</td>\n",
       "      <td>1671030599999</td>\n",
       "      <td>1084060.65935600</td>\n",
       "      <td>828</td>\n",
       "      <td>409.67060000</td>\n",
       "      <td>548821.80441400</td>\n",
       "      <td>0</td>\n",
       "    </tr>\n",
       "    <tr>\n",
       "      <th>287</th>\n",
       "      <td>1671030600000</td>\n",
       "      <td>1340.15000000</td>\n",
       "      <td>1341.00000000</td>\n",
       "      <td>1339.95000000</td>\n",
       "      <td>1339.95000000</td>\n",
       "      <td>991.42900000</td>\n",
       "      <td>1671030899999</td>\n",
       "      <td>1329102.77948000</td>\n",
       "      <td>344</td>\n",
       "      <td>583.53180000</td>\n",
       "      <td>782245.91076100</td>\n",
       "      <td>0</td>\n",
       "    </tr>\n",
       "  </tbody>\n",
       "</table>\n",
       "<p>288 rows × 12 columns</p>\n",
       "</div>"
      ],
      "text/plain": [
       "         Open Time           Open           High            Low  \\\n",
       "0    1670944500000  1335.63000000  1335.90000000  1328.96000000   \n",
       "1    1670944800000  1330.41000000  1332.49000000  1326.38000000   \n",
       "2    1670945100000  1327.22000000  1330.00000000  1326.31000000   \n",
       "3    1670945400000  1326.67000000  1328.14000000  1324.53000000   \n",
       "4    1670945700000  1325.94000000  1329.20000000  1323.36000000   \n",
       "..             ...            ...            ...            ...   \n",
       "283  1671029400000  1336.41000000  1342.41000000  1336.41000000   \n",
       "284  1671029700000  1339.66000000  1342.56000000  1339.31000000   \n",
       "285  1671030000000  1340.84000000  1341.83000000  1338.03000000   \n",
       "286  1671030300000  1338.52000000  1340.30000000  1338.30000000   \n",
       "287  1671030600000  1340.15000000  1341.00000000  1339.95000000   \n",
       "\n",
       "             Close         Volume     Close Time       Quote Asset  Volume  \\\n",
       "0    1330.42000000  2596.80630000  1670944799999  3459507.51526800    3187   \n",
       "1    1327.10000000  2567.14410000  1670945099999  3413007.71353300    2856   \n",
       "2    1326.67000000  2321.66520000  1670945399999  3082895.94408700    3082   \n",
       "3    1325.94000000  3369.66180000  1670945699999  4468452.66150800    3546   \n",
       "4    1323.37000000  2742.14900000  1670945999999  3639436.31147200    2803   \n",
       "..             ...            ...            ...               ...     ...   \n",
       "283  1339.66000000  1957.12690000  1671029699999  2621710.09056000    2486   \n",
       "284  1340.73000000  1183.36350000  1671029999999  1586967.22745000    1366   \n",
       "285  1338.50000000  1600.53630000  1671030299999  2144421.65471500    1446   \n",
       "286  1340.15000000   809.27510000  1671030599999  1084060.65935600     828   \n",
       "287  1339.95000000   991.42900000  1671030899999  1329102.77948000     344   \n",
       "\n",
       "    Number of Trades Taker buy base asset volume Taker buy quote asset volume  \n",
       "0      1025.64650000            1366251.21315000                            0  \n",
       "1      1214.60210000            1615236.84114100                            0  \n",
       "2      1045.92810000            1389080.94031200                            0  \n",
       "3      1332.33670000            1766631.76350400                            0  \n",
       "4       840.11840000            1114623.17316600                            0  \n",
       "..               ...                         ...                          ...  \n",
       "283    1112.56970000            1490353.84217100                            0  \n",
       "284     572.89840000             768256.96141400                            0  \n",
       "285     706.11520000             946187.36840900                            0  \n",
       "286     409.67060000             548821.80441400                            0  \n",
       "287     583.53180000             782245.91076100                            0  \n",
       "\n",
       "[288 rows x 12 columns]"
      ]
     },
     "metadata": {},
     "output_type": "display_data"
    }
   ],
   "source": [
    "display(klines_dataframe)"
   ]
  },
  {
   "cell_type": "code",
   "execution_count": 100,
   "id": "fde30711",
   "metadata": {},
   "outputs": [],
   "source": [
    "klines_dataframe.index = np.arange(klines_dataframe.shape[0])"
   ]
  },
  {
   "cell_type": "code",
   "execution_count": 101,
   "id": "da1eafbe",
   "metadata": {},
   "outputs": [],
   "source": [
    "closing_price = klines_dataframe['Close']\n",
    "close_time = klines_dataframe['Close Time']"
   ]
  },
  {
   "cell_type": "code",
   "execution_count": 102,
   "id": "4fa73ed0",
   "metadata": {},
   "outputs": [],
   "source": [
    "# Calculate the rolling mean and standard deviation\n",
    "rolling_mean = closing_price.rolling(time_period).mean()\n",
    "rolling_std = closing_price.rolling(time_period).std()"
   ]
  },
  {
   "cell_type": "code",
   "execution_count": 103,
   "id": "3ec28e2f",
   "metadata": {},
   "outputs": [],
   "source": [
    "# Calculate the upper and lower bands\n",
    "upper_band = rolling_mean + num_std_dev * rolling_std\n",
    "lower_band = rolling_mean - num_std_dev * rolling_std"
   ]
  },
  {
   "cell_type": "code",
   "execution_count": 104,
   "id": "4fe42a1d",
   "metadata": {},
   "outputs": [
    {
     "name": "stdout",
     "output_type": "stream",
     "text": [
      "1670944799999\n",
      "1671030899999\n",
      "1307\n",
      "1341\n"
     ]
    }
   ],
   "source": [
    "# Set the scale of the x axis\n",
    "min_time = close_time.min()\n",
    "max_time = close_time.max()\n",
    "\n",
    "# Set the scale of the y axis\n",
    "min_price = math.floor(float(closing_price.min()))\n",
    "max_price = math.ceil(float(closing_price.max()))\n",
    "\n",
    "print(min_time)\n",
    "print(max_time)\n",
    "\n",
    "print(min_price)\n",
    "print(max_price)"
   ]
  },
  {
   "cell_type": "code",
   "execution_count": 108,
   "id": "bc8f28db",
   "metadata": {},
   "outputs": [
    {
     "data": {
      "text/plain": [
       "0      1330.42000000\n",
       "1      1327.10000000\n",
       "2      1326.67000000\n",
       "3      1325.94000000\n",
       "4      1323.37000000\n",
       "           ...      \n",
       "283    1339.66000000\n",
       "284    1340.73000000\n",
       "285    1338.50000000\n",
       "286    1340.15000000\n",
       "287    1339.95000000\n",
       "Name: Close, Length: 288, dtype: object"
      ]
     },
     "metadata": {},
     "output_type": "display_data"
    },
    {
     "data": {
      "text/plain": [
       "'1307.88000000'"
      ]
     },
     "metadata": {},
     "output_type": "display_data"
    },
    {
     "data": {
      "text/plain": [
       "'1340.73000000'"
      ]
     },
     "metadata": {},
     "output_type": "display_data"
    }
   ],
   "source": [
    "display(closing_price)\n",
    "display(closing_price.min())\n",
    "display(closing_price.max())"
   ]
  },
  {
   "cell_type": "code",
   "execution_count": 116,
   "id": "38800b7c",
   "metadata": {},
   "outputs": [
    {
     "data": {
      "image/png": "[encoded data removed]",
      "text/plain": [
       "<Figure size 432x288 with 1 Axes>"
      ]
     },
     "metadata": {
      "needs_background": "light"
     },
     "output_type": "display_data"
    }
   ],
   "source": [
    "plt.plot(closing_price, label='Close')\n",
    "plt.plot(rolling_mean, label='Rolling Mean')\n",
    "plt.plot(upper_band, label='Upper Band')\n",
    "plt.plot(lower_band, label='Lower Band')\n",
    "plt.xlim(min_time, max_time) # In unix time\n",
    "plt.ylim(1000.00000000, 1400.00000000) # Unsure for price scale\n",
    "plt.legend()\n",
    "plt.show()"
   ]
  },
  {
   "cell_type": "code",
   "execution_count": null,
   "id": "d0c3aae9",
   "metadata": {},
   "outputs": [],
   "source": []
  }
 ],
 "metadata": {
  "kernelspec": {
   "display_name": "Python 3 (ipykernel)",
   "language": "python",
   "name": "python3"
  },
  "language_info": {
   "codemirror_mode": {
    "name": "ipython",
    "version": 3
   },
   "file_extension": ".py",
   "mimetype": "text/x-python",
   "name": "python",
   "nbconvert_exporter": "python",
   "pygments_lexer": "ipython3",
   "version": "3.8.13"
  }
 },
 "nbformat": 4,
 "nbformat_minor": 5
}
